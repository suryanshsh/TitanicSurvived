{
  "nbformat": 4,
  "nbformat_minor": 0,
  "metadata": {
    "colab": {
      "name": "Keras Practice",
      "version": "0.3.2",
      "provenance": [],
      "include_colab_link": true
    },
    "kernelspec": {
      "name": "python3",
      "display_name": "Python 3"
    }
  },
  "cells": [
    {
      "cell_type": "markdown",
      "metadata": {
        "id": "view-in-github",
        "colab_type": "text"
      },
      "source": [
        "<a href=\"https://colab.research.google.com/github/suryanshsh/TitanicSurvived/blob/master/Keras_Mnist.ipynb\" target=\"_parent\"><img src=\"https://colab.research.google.com/assets/colab-badge.svg\" alt=\"Open In Colab\"/></a>"
      ]
    },
    {
      "metadata": {
        "id": "E_dy_DTcltG7",
        "colab_type": "code",
        "colab": {
          "base_uri": "https://localhost:8080/",
          "height": 1181
        },
        "outputId": "a9ae40c6-9c6a-40ef-f44f-e516a07a78c3"
      },
      "cell_type": "code",
      "source": [
        "import keras\n",
        "from keras.datasets import mnist\n",
        "from keras.models import Sequential\n",
        "from keras.layers import Dense, Dropout\n",
        "from keras.optimizers import RMSprop\n",
        "\n",
        "batch_size = 128\n",
        "num_classes = 10\n",
        "epochs = 20\n",
        "\n",
        "# the data, split between train and test sets\n",
        "(x_train, y_train), (x_test, y_test) = mnist.load_data()\n",
        "\n",
        "x_train = x_train.reshape(60000, 784)\n",
        "x_test = x_test.reshape(10000, 784)\n",
        "x_train = x_train.astype('float32')\n",
        "x_test = x_test.astype('float32')\n",
        "x_train /= 255\n",
        "x_test /= 255\n",
        "print(x_train.shape[0], 'train samples')\n",
        "print(x_test.shape[0], 'test samples')\n",
        "\n",
        "# convert class vectors to binary class matrices\n",
        "y_train = keras.utils.to_categorical(y_train, num_classes)\n",
        "y_test = keras.utils.to_categorical(y_test, num_classes)\n",
        "\n",
        "model = Sequential()\n",
        "model.add(Dense(512, activation='relu', input_shape=(784,)))\n",
        "model.add(Dropout(0.2))\n",
        "model.add(Dense(512, activation='relu'))\n",
        "model.add(Dropout(0.2))\n",
        "model.add(Dense(num_classes, activation='softmax'))\n",
        "\n",
        "model.summary()\n",
        "\n",
        "model.compile(loss='categorical_crossentropy',\n",
        "              optimizer=RMSprop(),\n",
        "              metrics=['accuracy'])\n",
        "\n",
        "history = model.fit(x_train, y_train,\n",
        "                    batch_size=batch_size,\n",
        "                    epochs=epochs,\n",
        "                    verbose=1,\n",
        "                    validation_data=(x_test, y_test))\n",
        "score = model.evaluate(x_test, y_test, verbose=0)\n",
        "print('Test loss:', score[0])\n",
        "print('Test accuracy:', score[1])"
      ],
      "execution_count": 32,
      "outputs": [
        {
          "output_type": "stream",
          "text": [
            "Downloading data from https://s3.amazonaws.com/img-datasets/mnist.npz\n",
            "11493376/11490434 [==============================] - 0s 0us/step\n",
            "60000 train samples\n",
            "10000 test samples\n",
            "_________________________________________________________________\n",
            "Layer (type)                 Output Shape              Param #   \n",
            "=================================================================\n",
            "dense_15 (Dense)             (None, 512)               401920    \n",
            "_________________________________________________________________\n",
            "dropout_1 (Dropout)          (None, 512)               0         \n",
            "_________________________________________________________________\n",
            "dense_16 (Dense)             (None, 512)               262656    \n",
            "_________________________________________________________________\n",
            "dropout_2 (Dropout)          (None, 512)               0         \n",
            "_________________________________________________________________\n",
            "dense_17 (Dense)             (None, 10)                5130      \n",
            "=================================================================\n",
            "Total params: 669,706\n",
            "Trainable params: 669,706\n",
            "Non-trainable params: 0\n",
            "_________________________________________________________________\n",
            "Train on 60000 samples, validate on 10000 samples\n",
            "Epoch 1/20\n",
            "60000/60000 [==============================] - 10s 165us/step - loss: 0.2453 - acc: 0.9253 - val_loss: 0.1236 - val_acc: 0.9615\n",
            "Epoch 2/20\n",
            "60000/60000 [==============================] - 10s 160us/step - loss: 0.1024 - acc: 0.9685 - val_loss: 0.0845 - val_acc: 0.9746\n",
            "Epoch 3/20\n",
            "60000/60000 [==============================] - 10s 159us/step - loss: 0.0747 - acc: 0.9769 - val_loss: 0.1069 - val_acc: 0.9690\n",
            "Epoch 4/20\n",
            "60000/60000 [==============================] - 9s 157us/step - loss: 0.0601 - acc: 0.9821 - val_loss: 0.0672 - val_acc: 0.9812\n",
            "Epoch 5/20\n",
            "60000/60000 [==============================] - 9s 156us/step - loss: 0.0495 - acc: 0.9854 - val_loss: 0.0836 - val_acc: 0.9790\n",
            "Epoch 6/20\n",
            "60000/60000 [==============================] - 9s 157us/step - loss: 0.0428 - acc: 0.9873 - val_loss: 0.0841 - val_acc: 0.9807\n",
            "Epoch 7/20\n",
            "60000/60000 [==============================] - 9s 156us/step - loss: 0.0381 - acc: 0.9889 - val_loss: 0.0711 - val_acc: 0.9833\n",
            "Epoch 8/20\n",
            "60000/60000 [==============================] - 9s 157us/step - loss: 0.0351 - acc: 0.9898 - val_loss: 0.0796 - val_acc: 0.9824\n",
            "Epoch 9/20\n",
            "60000/60000 [==============================] - 9s 157us/step - loss: 0.0313 - acc: 0.9907 - val_loss: 0.0903 - val_acc: 0.9821\n",
            "Epoch 10/20\n",
            "60000/60000 [==============================] - 9s 158us/step - loss: 0.0297 - acc: 0.9918 - val_loss: 0.1024 - val_acc: 0.9816\n",
            "Epoch 11/20\n",
            "60000/60000 [==============================] - 9s 156us/step - loss: 0.0285 - acc: 0.9921 - val_loss: 0.0965 - val_acc: 0.9803\n",
            "Epoch 12/20\n",
            "60000/60000 [==============================] - 9s 155us/step - loss: 0.0268 - acc: 0.9924 - val_loss: 0.0992 - val_acc: 0.9829\n",
            "Epoch 13/20\n",
            "60000/60000 [==============================] - 9s 157us/step - loss: 0.0264 - acc: 0.9932 - val_loss: 0.0986 - val_acc: 0.9816\n",
            "Epoch 14/20\n",
            "60000/60000 [==============================] - 9s 158us/step - loss: 0.0227 - acc: 0.9935 - val_loss: 0.1237 - val_acc: 0.9788\n",
            "Epoch 15/20\n",
            "60000/60000 [==============================] - 9s 158us/step - loss: 0.0239 - acc: 0.9934 - val_loss: 0.1162 - val_acc: 0.9795\n",
            "Epoch 16/20\n",
            "60000/60000 [==============================] - 9s 157us/step - loss: 0.0196 - acc: 0.9944 - val_loss: 0.1048 - val_acc: 0.9832\n",
            "Epoch 17/20\n",
            "60000/60000 [==============================] - 9s 157us/step - loss: 0.0226 - acc: 0.9943 - val_loss: 0.1046 - val_acc: 0.9846\n",
            "Epoch 18/20\n",
            "60000/60000 [==============================] - 9s 157us/step - loss: 0.0208 - acc: 0.9944 - val_loss: 0.1070 - val_acc: 0.9833\n",
            "Epoch 19/20\n",
            "60000/60000 [==============================] - 9s 157us/step - loss: 0.0208 - acc: 0.9950 - val_loss: 0.1087 - val_acc: 0.9836\n",
            "Epoch 20/20\n",
            "60000/60000 [==============================] - 10s 159us/step - loss: 0.0181 - acc: 0.9953 - val_loss: 0.1120 - val_acc: 0.9850\n",
            "Test loss: 0.11203776119735812\n",
            "Test accuracy: 0.985\n"
          ],
          "name": "stdout"
        }
      ]
    },
    {
      "metadata": {
        "id": "BnGkAU6TltsW",
        "colab_type": "code",
        "colab": {}
      },
      "cell_type": "code",
      "source": [
        ""
      ],
      "execution_count": 0,
      "outputs": []
    }
  ]
}